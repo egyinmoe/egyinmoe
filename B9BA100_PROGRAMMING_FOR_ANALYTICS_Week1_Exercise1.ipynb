{
  "nbformat": 4,
  "nbformat_minor": 0,
  "metadata": {
    "colab": {
      "provenance": [],
      "authorship_tag": "ABX9TyNqy/WO9jqK1yXbSPty8YqO",
      "include_colab_link": true
    },
    "kernelspec": {
      "name": "python3",
      "display_name": "Python 3"
    },
    "language_info": {
      "name": "python"
    }
  },
  "cells": [
    {
      "cell_type": "markdown",
      "metadata": {
        "id": "view-in-github",
        "colab_type": "text"
      },
      "source": [
        "<a href=\"https://colab.research.google.com/github/egyinmoe/egyinmoe/blob/ProgrammingAnalysis/B9BA100_PROGRAMMING_FOR_ANALYTICS_Week1_Exercise1.ipynb\" target=\"_parent\"><img src=\"https://colab.research.google.com/assets/colab-badge.svg\" alt=\"Open In Colab\"/></a>"
      ]
    },
    {
      "cell_type": "markdown",
      "source": [
        "###Week 1 Exercise1"
      ],
      "metadata": {
        "id": "DZzi4MpQeAF5"
      }
    },
    {
      "cell_type": "markdown",
      "source": [
        "1. Write a program to display \"American Flag\""
      ],
      "metadata": {
        "id": "J56kfMyXeXMp"
      }
    },
    {
      "cell_type": "code",
      "execution_count": 2,
      "metadata": {
        "colab": {
          "base_uri": "https://localhost:8080/"
        },
        "id": "o2PCYKnMd4cU",
        "outputId": "5681b72e-2c37-484e-b504-647fda36d1a4"
      },
      "outputs": [
        {
          "output_type": "stream",
          "name": "stdout",
          "text": [
            "*******----------------------------------\n",
            "*******----------------------------------\n",
            "*******----------------------------------\n",
            "*******----------------------------------\n",
            "-----------------------------------------\n",
            "-----------------------------------------\n"
          ]
        }
      ],
      "source": [
        "print(\"*******----------------------------------\")\n",
        "print(\"*******----------------------------------\")\n",
        "print(\"*******----------------------------------\")\n",
        "print(\"*******----------------------------------\")\n",
        "print(\"-----------------------------------------\")\n",
        "print(\"-----------------------------------------\")\n"
      ]
    },
    {
      "cell_type": "markdown",
      "source": [
        "2. Write a program to display a Christmas tree"
      ],
      "metadata": {
        "id": "yMJ1XePQeiUU"
      }
    },
    {
      "cell_type": "code",
      "source": [
        "rows = 5\n",
        "for i in range(rows):\n",
        "    print(\" \" * (rows - i - 1) + \"*\" * (2 * i + 1))\n"
      ],
      "metadata": {
        "colab": {
          "base_uri": "https://localhost:8080/"
        },
        "id": "XyTlE_8BecSe",
        "outputId": "1902d07b-6448-4b9e-cf7c-a16316c039fb"
      },
      "execution_count": 3,
      "outputs": [
        {
          "output_type": "stream",
          "name": "stdout",
          "text": [
            "    *\n",
            "   ***\n",
            "  *****\n",
            " *******\n",
            "*********\n"
          ]
        }
      ]
    },
    {
      "cell_type": "markdown",
      "source": [
        "3. Write a program to display the following:"
      ],
      "metadata": {
        "id": "ySRMmkiti_Cj"
      }
    },
    {
      "cell_type": "code",
      "source": [
        "ascii_art = \"\"\"\n",
        " (^;^)\n",
        "   |\n",
        " ./ | \\.\n",
        "   |\n",
        " _/ \\_\n",
        "\"\"\"\n",
        "\n",
        "print(ascii_art)"
      ],
      "metadata": {
        "colab": {
          "base_uri": "https://localhost:8080/"
        },
        "id": "_Dt_i1Lui-lJ",
        "outputId": "c0472572-8ef9-4eb2-ceb5-3167a59ab769"
      },
      "execution_count": 4,
      "outputs": [
        {
          "output_type": "stream",
          "name": "stdout",
          "text": [
            "\n",
            " (^;^)\n",
            "   |\n",
            " ./ | \\. \n",
            "   |\n",
            " _/ \\_\n",
            "\n"
          ]
        }
      ]
    },
    {
      "cell_type": "markdown",
      "source": [
        "4. Write a program to calculate the sum of two integer values.\n",
        "Declare two variables num1 and num2 and give those values 10 and 4. Declare another variable sum\n",
        "to store the result of adding two numbers. Display the result.\n"
      ],
      "metadata": {
        "id": "SAZdgPO3jWDF"
      }
    },
    {
      "cell_type": "code",
      "source": [
        "num1=10\n",
        "num2=4\n",
        "sum=num1+num2\n",
        "print(\"Total sum of the two number is:\", sum)"
      ],
      "metadata": {
        "colab": {
          "base_uri": "https://localhost:8080/"
        },
        "id": "fvNeiyE1jYsd",
        "outputId": "114141d3-5a76-40e2-c7e4-8e9daef77978"
      },
      "execution_count": 5,
      "outputs": [
        {
          "output_type": "stream",
          "name": "stdout",
          "text": [
            "Total sum of the two number is: 14\n"
          ]
        }
      ]
    },
    {
      "cell_type": "markdown",
      "source": [
        "5. Write a program to accept a numeric input from the user.\n",
        "The program prompts the user to enter an integer value.\n",
        "Read the value input, increment by 1 and output to result the user."
      ],
      "metadata": {
        "id": "2OZ7rpm9jtat"
      }
    },
    {
      "cell_type": "code",
      "source": [
        "num=int(input(\"Enter a number: \"))\n",
        "print(\"The incremented number is:\", num+1)\n"
      ],
      "metadata": {
        "colab": {
          "base_uri": "https://localhost:8080/"
        },
        "id": "mr5w37g2juBH",
        "outputId": "a92fc717-7d40-43e8-87c6-6221d9030b69"
      },
      "execution_count": 8,
      "outputs": [
        {
          "output_type": "stream",
          "name": "stdout",
          "text": [
            "Enter a number15\n",
            "The incremented number is: 16\n"
          ]
        }
      ]
    },
    {
      "cell_type": "markdown",
      "source": [
        "6. Write a program to get the result by adding two integers given by the user. Prompt the user for two integer values. Read the values into the console and assign to variables called num1 and num2. Declare another variable sum to store the result of adding two numbers.\n",
        "Display the result."
      ],
      "metadata": {
        "id": "0aS7XcmJkKHV"
      }
    },
    {
      "cell_type": "code",
      "source": [
        "num1 = int(input(\"Enter the first integer: \"))\n",
        "num2 = int(input(\"Enter the second integer: \"))\n",
        "sum = num1 + num2\n",
        "print(\"The sum of\", num1, \"and\", num2, \"is\", sum)\n"
      ],
      "metadata": {
        "id": "tJjlvySRkOKp"
      },
      "execution_count": null,
      "outputs": []
    },
    {
      "cell_type": "markdown",
      "source": [
        "7. Write a program to get the result by diving two numbers given by the user. Prompt the user for two values. Read the values into the console and assign to variables called num1\n",
        "and num2. Declare another variable result to store the result of dividing num1 by num2. Display the result."
      ],
      "metadata": {
        "id": "g5gJ1aoskhIv"
      }
    },
    {
      "cell_type": "code",
      "source": [
        "num1=input(\"Enter the first number: \")\n",
        "num2=input(\"Enter the second number: \")\n",
        "result=float(num1)/float(num2)\n",
        "print(\"The division of\", num1, \"and\", num2, \"is\", result)"
      ],
      "metadata": {
        "id": "_GWCYaWBk5Ng"
      },
      "execution_count": null,
      "outputs": []
    }
  ]
}