{
  "nbformat": 4,
  "nbformat_minor": 0,
  "metadata": {
    "colab": {
      "provenance": [],
      "authorship_tag": "ABX9TyOi4YtC2eDGU01pgJg4zMjm",
      "include_colab_link": true
    },
    "kernelspec": {
      "name": "python3",
      "display_name": "Python 3"
    },
    "language_info": {
      "name": "python"
    }
  },
  "cells": [
    {
      "cell_type": "markdown",
      "metadata": {
        "id": "view-in-github",
        "colab_type": "text"
      },
      "source": [
        "<a href=\"https://colab.research.google.com/github/egyinmoe/egyinmoe/blob/main/Tutorial_3_Python_Data_Types_.ipynb\" target=\"_parent\"><img src=\"https://colab.research.google.com/assets/colab-badge.svg\" alt=\"Open In Colab\"/></a>"
      ]
    },
    {
      "cell_type": "markdown",
      "source": [
        "Numeric Data Types\n",
        "Python numeric data type is used to hold numeric values like;\n",
        "1. int – holds signed integers of non-limited length.\n",
        "2. float- holds floating precision numbers and it’s accurate up to 15 decimal places.\n",
        "3. complex- holds complex numbers.\n",
        "In Python we need not to declare datatype while declaring a variable like C or C++. We can simply\n",
        "just assign values in a variable. But if we want to see what type of numerical value is it holding right\n",
        "now, we can use type(), like this:\n"
      ],
      "metadata": {
        "id": "LwWd8OvxQlt6"
      }
    },
    {
      "cell_type": "code",
      "source": [
        "a=100\n",
        "print(\"The type of variable  having value\", a, \"is\" , type(a))\n",
        "\n",
        "b=10.2345\n",
        "print(\"The type of variable  having value\", b, \"is\" , type(b))\n",
        "\n",
        "c=100+3j\n",
        "print(\"The type of variable  having value\", c, \"is\" , type(c))\n"
      ],
      "metadata": {
        "colab": {
          "base_uri": "https://localhost:8080/"
        },
        "id": "jMGGjJ8bQnpE",
        "outputId": "a5ebdcec-9ea0-4f6e-8995-c750609c28ab"
      },
      "execution_count": 1,
      "outputs": [
        {
          "output_type": "stream",
          "name": "stdout",
          "text": [
            "The type of variable  having value 100 is <class 'int'>\n",
            "The type of variable  having value 10.2345 is <class 'float'>\n",
            "The type of variable  having value (100+3j) is <class 'complex'>\n"
          ]
        }
      ]
    }
  ]
}